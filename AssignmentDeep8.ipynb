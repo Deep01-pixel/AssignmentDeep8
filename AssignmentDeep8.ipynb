{
  "nbformat": 4,
  "nbformat_minor": 0,
  "metadata": {
    "colab": {
      "provenance": []
    },
    "kernelspec": {
      "name": "python3",
      "display_name": "Python 3"
    },
    "language_info": {
      "name": "python"
    }
  },
  "cells": [
    {
      "cell_type": "markdown",
      "source": [
        "#**THEORY QUESTIONS**"
      ],
      "metadata": {
        "id": "MIu64iuONbcE"
      }
    },
    {
      "cell_type": "markdown",
      "source": [
        "**1.What is a RESTful API?**\n",
        "\n",
        "A RESTful API is an API that follows REST (Representational State Transfer) principles.\n",
        "\n",
        "1.It allows communication between client and server using HTTP methods (GET, POST, PUT, DELETE, etc.).\n",
        "\n",
        "2.Data is usually exchanged in JSON format.\n",
        "\n",
        "3.REST APIs are stateless (server does not remember previous requests)."
      ],
      "metadata": {
        "id": "lh2zkkqWNequ"
      }
    },
    {
      "cell_type": "markdown",
      "source": [
        "**2.Explain the concept of API specification**\n",
        "\n",
        "An API specification is a blueprint that describes how an API works.\n",
        "\n",
        "**It defines:**\n",
        "\n",
        "**1.Endpoints** (URLs like /users, /products)\n",
        "\n",
        "**2.HTTP methods** (GET, POST, PUT, DELETE)\n",
        "\n",
        "**3.Input parameters** (query, body, headers)\n",
        "\n",
        "**4.Response formats** (JSON, XML, etc.)\n",
        "\n",
        "**5.Error codes**"
      ],
      "metadata": {
        "id": "eJybp12QNpYW"
      }
    },
    {
      "cell_type": "markdown",
      "source": [
        "**3.What is Flask, and why is it popular for building APIs?**\n",
        "\n",
        "Flask is a lightweight Python web framework.\n",
        "\n",
        "**It’s popular because:**\n",
        "\n",
        "1.Simple and minimal.\n",
        "\n",
        "2.Easy to learn and set up.\n",
        "\n",
        "3.Flexible (doesn’t force you into a strict project structure).\n",
        "\n",
        "4.Works well for building APIs and microservices."
      ],
      "metadata": {
        "id": "Oz0BJKQqNy19"
      }
    },
    {
      "cell_type": "markdown",
      "source": [
        "**4.What is routing in Flask?**\n",
        "\n",
        "Routing is mapping a URL path to a function."
      ],
      "metadata": {
        "id": "-r4c5bOuN4xJ"
      }
    },
    {
      "cell_type": "markdown",
      "source": [
        "**5.How do you create a simple Flask application?**\n",
        "\n",
        "from flask import Flask\n",
        "\n",
        "app = Flask(__name__)\n",
        "\n",
        "@app.route(\"/\")\n",
        "\n",
        "def home():\n",
        "\n",
        "    return \"Welcome to Flask!\"\n",
        "\n",
        "if __name__ == \"__main__\":\n",
        "\n",
        "    app.run(debug=True)\n",
        "\n"
      ],
      "metadata": {
        "id": "1CIQtMCFN9Ef"
      }
    },
    {
      "cell_type": "markdown",
      "source": [
        "**6.What are HTTP methods used in RESTful APIs?**\n",
        "\n",
        "**GET →** Read data\n",
        "\n",
        "**POST →** Create data\n",
        "\n",
        "**PUT →** Update data (replace)\n",
        "\n",
        "**PATCH →** Update part of data\n",
        "\n",
        "**DELETE →** Remove data"
      ],
      "metadata": {
        "id": "afERRtX1OXqm"
      }
    },
    {
      "cell_type": "markdown",
      "source": [
        "**7.What is the purpose of the @app.route() decorator in Flask**\n",
        "\n",
        "It connects a URL path to a function."
      ],
      "metadata": {
        "id": "himSyVBLObyz"
      }
    },
    {
      "cell_type": "markdown",
      "source": [
        "**8.Difference between GET and POST HTTP methods**\n",
        "\n",
        "**GET:**\n",
        "\n",
        "1.Retrieves data.\n",
        "\n",
        "2.Parameters go in the URL (/search?q=python).\n",
        "\n",
        "3.Safe & idempotent (doesn’t change server data).\n",
        "\n",
        "**POST:**\n",
        "\n",
        "1.Sends data to server (creates new resource).\n",
        "\n",
        "2.Parameters go in request body (not URL).\n",
        "\n",
        "3.Not idempotent."
      ],
      "metadata": {
        "id": "lL8dK4cLOgtC"
      }
    },
    {
      "cell_type": "markdown",
      "source": [
        "**9.How do you handle errors in Flask APIs?**\n",
        "\n",
        "Use @app.errorhandler or custom error responses."
      ],
      "metadata": {
        "id": "RRje5tX2Ovjx"
      }
    },
    {
      "cell_type": "markdown",
      "source": [
        "**10.How do you connect Flask to a SQL database?**\n",
        "\n",
        "Use libraries like Flask-SQLAlchemy or sqlite3."
      ],
      "metadata": {
        "id": "z76MwwkqOy1V"
      }
    },
    {
      "cell_type": "markdown",
      "source": [
        "**11.What is the role of Flask-SQLAlchemy?**\n",
        "\n",
        "👉It’s an ORM (Object Relational Mapper) for Flask.\n",
        "\n",
        "👉Lets you use Python classes instead of writing raw SQL."
      ],
      "metadata": {
        "id": "zCVVrjOmPqBU"
      }
    },
    {
      "cell_type": "markdown",
      "source": [
        "**12.What are Flask blueprints, and how are they useful?**\n",
        "\n",
        "👉Blueprints allow splitting a big Flask app into modules.\n",
        "\n",
        "👉Useful for large projects (organizing routes into separate files)."
      ],
      "metadata": {
        "id": "OTPGRyDYPvYn"
      }
    },
    {
      "cell_type": "markdown",
      "source": [
        "**13.What is the purpose of Flask's request object?**\n",
        "\n",
        "The request object holds HTTP request data."
      ],
      "metadata": {
        "id": "N9caL4-6P95R"
      }
    },
    {
      "cell_type": "markdown",
      "source": [
        "**14.How do you create a RESTful API endpoint using Flask?**\n",
        "\n",
        "from flask import Flask, jsonify\n",
        "\n",
        "app = Flask(__name__)\n",
        "\n",
        "@app.route(\"/api/users\", methods=[\"GET\"])\n",
        "\n",
        "def get_users():\n",
        "\n",
        "    return jsonify({\"users\": [\"Alice\", \"Bob\"]})"
      ],
      "metadata": {
        "id": "e-zYkX3gQLy_"
      }
    },
    {
      "cell_type": "markdown",
      "source": [
        "**15.What is the purpose of Flask's jsonify() function?**\n",
        "\n",
        "Converts Python dictionaries/lists → JSON response."
      ],
      "metadata": {
        "id": "8q0CYZHEQVpW"
      }
    },
    {
      "cell_type": "markdown",
      "source": [
        "**16.Explain Flask’s url_for() function**\n",
        "\n",
        "Dynamically generates URLs for functions."
      ],
      "metadata": {
        "id": "X62DamiDQbuL"
      }
    },
    {
      "cell_type": "markdown",
      "source": [
        "**17.How does Flask handle static files (CSS, JavaScript, etc.)?**\n",
        "\n",
        "Place them in a folder named static/.\n",
        "\n",
        "Access via /static/filename.\n",
        "\n",
        "Example: static/style.css → /static/style.css"
      ],
      "metadata": {
        "id": "rL9Vp0CYQiKF"
      }
    },
    {
      "cell_type": "markdown",
      "source": [
        "**18.What is an API specification, and how does it help in building a Flask API?**\n",
        "\n",
        "API specification is a contract that defines how the API works (endpoints, inputs, outputs).\n",
        "\n",
        "# **Helps because:**\n",
        "\n",
        "1.Clear documentation.\n",
        "\n",
        "2.Avoids miscommunication between frontend and backend teams.\n",
        "\n",
        "3.Tools like Swagger/OpenAPI can generate docs automatically."
      ],
      "metadata": {
        "id": "o1MI-q0QQ25u"
      }
    },
    {
      "cell_type": "markdown",
      "source": [
        "**19.What are HTTP status codes, and why are they important in a Flask API?**\n",
        "\n",
        "HTTP status codes are 3-digit numbers that show the result of an HTTP request.\n",
        "\n",
        "They help the client (frontend/app) understand if the request was successful, failed, or needs action."
      ],
      "metadata": {
        "id": "4ALSZJAkRHtX"
      }
    },
    {
      "cell_type": "markdown",
      "source": [
        "**20.How do you handle POST requests in Flask?**\n",
        "\n",
        "POST is used to send data to the server.\n",
        "\n",
        "In Flask, you use methods=[\"POST\"] and get data using request.form or request.json."
      ],
      "metadata": {
        "id": "E6RPctZoRNUo"
      }
    },
    {
      "cell_type": "markdown",
      "source": [
        "**21.How would you secure a Flask API?**\n",
        "\n",
        "**To secure a Flask API**:\n",
        "\n",
        "**Use HTTPS →** encrypt data transfer.\n",
        "\n",
        "**Authentication →** Use tokens (JWT, OAuth).\n",
        "\n",
        "**Authorization →** Restrict access based on roles.\n",
        "\n",
        "**Input validation →** Prevent SQL injection, XSS.\n",
        "\n",
        "**Rate limiting →** Prevent abuse (Flask-Limiter).\n",
        "\n",
        "**Hide sensitive data →** Don’t expose keys in code."
      ],
      "metadata": {
        "id": "Lvng1g8FRT1I"
      }
    },
    {
      "cell_type": "markdown",
      "source": [
        "**22.What is the significance of the Flask-RESTful extension?**\n",
        "\n",
        "Flask-RESTful is an extension that makes building REST APIs easier.\n",
        "\n",
        "**It provides:**\n",
        "\n",
        "1.Resource classes (instead of writing many routes).\n",
        "\n",
        "2.Easy handling of HTTP methods (get, post, put, delete).\n",
        "\n",
        "3.Automatic error handling & input parsing."
      ],
      "metadata": {
        "id": "krLRM-fSRkBr"
      }
    },
    {
      "cell_type": "markdown",
      "source": [
        "**23.What is the role of Flask’s session object?**\n",
        "\n",
        "session in Flask is used to store data for a user between requests.\n",
        "\n",
        "It is stored on the client as a cookie, but signed with a secret key to prevent tampering."
      ],
      "metadata": {
        "id": "5M10wnvARu9r"
      }
    },
    {
      "cell_type": "markdown",
      "source": [
        "# **PRACTICAL QUESTIONS....**"
      ],
      "metadata": {
        "id": "z42gq82vR0qN"
      }
    },
    {
      "cell_type": "code",
      "source": [
        "#1. How do you create a basic Flask application?\n",
        "from flask import Flask   # Import Flask\n",
        "\n",
        "app = Flask(__name__)     # Create a Flask app\n",
        "\n",
        "# Define a route (homepage)\n",
        "@app.route(\"/\")\n",
        "def home():\n",
        "    return \"Hello, Flask!\"\n",
        "\n",
        "# Run the app\n",
        "if __name__ == \"__main__\":\n",
        "    app.run(debug=True)\n"
      ],
      "metadata": {
        "colab": {
          "base_uri": "https://localhost:8080/"
        },
        "id": "P2AzfChuR8Vn",
        "outputId": "d5d25b9c-7ec6-4b70-ede5-ced7bc3c4a0e"
      },
      "execution_count": null,
      "outputs": [
        {
          "output_type": "stream",
          "name": "stdout",
          "text": [
            " * Serving Flask app '__main__'\n",
            " * Debug mode: on\n"
          ]
        },
        {
          "output_type": "stream",
          "name": "stderr",
          "text": [
            "INFO:werkzeug:\u001b[31m\u001b[1mWARNING: This is a development server. Do not use it in a production deployment. Use a production WSGI server instead.\u001b[0m\n",
            " * Running on http://127.0.0.1:5000\n",
            "INFO:werkzeug:\u001b[33mPress CTRL+C to quit\u001b[0m\n",
            "INFO:werkzeug: * Restarting with watchdog (inotify)\n"
          ]
        }
      ]
    },
    {
      "cell_type": "code",
      "source": [
        "#How do you serve static files like images or CSS in Flask\n",
        "from flask import Flask, render_template_string, url_for\n",
        "\n",
        "app = Flask(__name__)\n",
        "\n",
        "# HTML template as a string\n",
        "template = \"\"\"\n",
        "<!DOCTYPE html>\n",
        "<html>\n",
        "<head>\n",
        "    <title>Flask Static Files Example</title>\n",
        "    <!-- Link CSS file -->\n",
        "    <link rel=\"stylesheet\" type=\"text/css\" href=\"{{ url_for('static', filename='style.css') }}\">\n",
        "</head>\n",
        "<body>\n",
        "    <h2>Welcome to Flask Static Files Example</h2>\n",
        "    <!-- Display image -->\n",
        "    <img src=\"{{ url_for('static', filename='logo.png') }}\" alt=\"Logo\" width=\"200\">\n",
        "    <p>This page uses a CSS file and an image from the static folder.</p>\n",
        "</body>\n",
        "</html>\n",
        "\"\"\"\n",
        "\n",
        "@app.route('/')\n",
        "def home():\n",
        "    return render_template_string(template)\n",
        "\n",
        "if __name__ == '__main__':\n",
        "    app.run(debug=True)\n"
      ],
      "metadata": {
        "colab": {
          "base_uri": "https://localhost:8080/"
        },
        "id": "dItgRD7vS1KU",
        "outputId": "81460131-2bc1-4a9f-f8c3-b3c7cc255aeb"
      },
      "execution_count": null,
      "outputs": [
        {
          "output_type": "stream",
          "name": "stdout",
          "text": [
            " * Serving Flask app '__main__'\n",
            " * Debug mode: on\n"
          ]
        },
        {
          "output_type": "stream",
          "name": "stderr",
          "text": [
            "INFO:werkzeug:\u001b[31m\u001b[1mWARNING: This is a development server. Do not use it in a production deployment. Use a production WSGI server instead.\u001b[0m\n",
            " * Running on http://127.0.0.1:5000\n",
            "INFO:werkzeug:\u001b[33mPress CTRL+C to quit\u001b[0m\n",
            "INFO:werkzeug: * Restarting with watchdog (inotify)\n"
          ]
        }
      ]
    },
    {
      "cell_type": "code",
      "source": [
        "#How do you define different routes with different HTTP methods in Flask\n",
        "from flask import Flask, request, jsonify\n",
        "\n",
        "app = Flask(__name__)\n",
        "\n",
        "# ----------------------------\n",
        "# GET route\n",
        "# ----------------------------\n",
        "@app.route(\"/get-example\", methods=[\"GET\"])\n",
        "def get_example():\n",
        "    return \"This is a GET request\"\n",
        "\n",
        "\n",
        "# ----------------------------\n",
        "# POST route\n",
        "# ----------------------------\n",
        "@app.route(\"/post-example\", methods=[\"POST\"])\n",
        "def post_example():\n",
        "    data = request.form.get(\"name\")   # form data\n",
        "    return f\"Hello {data}, this is a POST request\"\n",
        "\n",
        "\n",
        "# ----------------------------\n",
        "# Same route handling GET and POST\n",
        "# ----------------------------\n",
        "@app.route(\"/user\", methods=[\"GET\", \"POST\"])\n",
        "def user():\n",
        "    if request.method == \"GET\":\n",
        "        return \"Send me user data with POST!\"\n",
        "    elif request.method == \"POST\":\n",
        "        data = request.json   # JSON body\n",
        "        return jsonify({\"message\": f\"User {data['name']} added!\"}), 201\n",
        "\n",
        "\n",
        "# ----------------------------\n",
        "# PUT and DELETE example\n",
        "# ----------------------------\n",
        "@app.route(\"/item/<int:item_id>\", methods=[\"PUT\", \"DELETE\"])\n",
        "def item(item_id):\n",
        "    if request.method == \"PUT\":\n",
        "        return jsonify({\"message\": f\"Item {item_id} updated successfully\"})\n",
        "    elif request.method == \"DELETE\":\n",
        "        return jsonify({\"message\": f\"Item {item_id} deleted successfully\"})\n",
        "\n",
        "\n",
        "# ----------------------------\n",
        "# Run Flask app\n",
        "# ----------------------------\n",
        "if __name__ == \"__main__\":\n",
        "    app.run(debug=True)\n",
        "\n"
      ],
      "metadata": {
        "colab": {
          "base_uri": "https://localhost:8080/"
        },
        "id": "Tu66hZrxT34A",
        "outputId": "02bc2148-79a0-44d8-95b6-8906570c51c8"
      },
      "execution_count": null,
      "outputs": [
        {
          "output_type": "stream",
          "name": "stdout",
          "text": [
            " * Serving Flask app '__main__'\n",
            " * Debug mode: on\n"
          ]
        },
        {
          "output_type": "stream",
          "name": "stderr",
          "text": [
            "INFO:werkzeug:\u001b[31m\u001b[1mWARNING: This is a development server. Do not use it in a production deployment. Use a production WSGI server instead.\u001b[0m\n",
            " * Running on http://127.0.0.1:5000\n",
            "INFO:werkzeug:\u001b[33mPress CTRL+C to quit\u001b[0m\n",
            "INFO:werkzeug: * Restarting with watchdog (inotify)\n"
          ]
        }
      ]
    },
    {
      "cell_type": "code",
      "source": [
        "#How do you render HTML templates in Flask\n",
        "from flask import Flask, render_template_string, url_for\n",
        "\n",
        "app = Flask(__name__)\n",
        "\n",
        "# Home route\n",
        "@app.route('/')\n",
        "def home():\n",
        "    html = \"\"\"\n",
        "    <html>\n",
        "    <head><title>Home Page</title></head>\n",
        "    <body>\n",
        "        <h1>Welcome, {{ name }}!</h1>\n",
        "        <p>This is the home page.</p>\n",
        "        <a href=\"{{ url_for('about') }}\">Go to About Page</a>\n",
        "    </body>\n",
        "    </html>\n",
        "    \"\"\"\n",
        "    return render_template_string(html, name=\"Aabha\")\n",
        "\n",
        "# About route\n",
        "@app.route('/about')\n",
        "def about():\n",
        "    html = \"\"\"\n",
        "    <html>\n",
        "    <head><title>About Page</title></head>\n",
        "    <body>\n",
        "        <h1>About This App</h1>\n",
        "        <p>This app demonstrates Flask templates and URL generation in a single file.</p>\n",
        "        <a href=\"{{ url_for('home') }}\">Back to Home</a>\n",
        "    </body>\n",
        "    </html>\n",
        "    \"\"\"\n",
        "    return render_template_string(html)\n",
        "\n",
        "if __name__ == \"__main__\":\n",
        "    app.run(debug=True)\n"
      ],
      "metadata": {
        "colab": {
          "base_uri": "https://localhost:8080/"
        },
        "id": "5ZBQYAK_Wk4y",
        "outputId": "1bf74076-2b6c-447a-fb61-9d65acf868de"
      },
      "execution_count": null,
      "outputs": [
        {
          "output_type": "stream",
          "name": "stdout",
          "text": [
            " * Serving Flask app '__main__'\n",
            " * Debug mode: on\n"
          ]
        },
        {
          "output_type": "stream",
          "name": "stderr",
          "text": [
            "INFO:werkzeug:\u001b[31m\u001b[1mWARNING: This is a development server. Do not use it in a production deployment. Use a production WSGI server instead.\u001b[0m\n",
            " * Running on http://127.0.0.1:5000\n",
            "INFO:werkzeug:\u001b[33mPress CTRL+C to quit\u001b[0m\n",
            "INFO:werkzeug: * Restarting with watchdog (inotify)\n"
          ]
        }
      ]
    },
    {
      "cell_type": "code",
      "source": [
        "#How can you generate URLs for routes in Flask using url_for\n",
        "from flask import Flask, url_for\n",
        "\n",
        "app = Flask(__name__)\n",
        "\n",
        "@app.route('/')\n",
        "def home():\n",
        "    return 'Home Page'\n",
        "\n",
        "@app.route('/about')\n",
        "def about():\n",
        "    return 'About Page'\n",
        "\n",
        "with app.test_request_context():\n",
        "    print(url_for('home'))\n",
        "    print(url_for('about'))\n"
      ],
      "metadata": {
        "colab": {
          "base_uri": "https://localhost:8080/"
        },
        "id": "pInec3KrXelv",
        "outputId": "84e421ae-8e69-40dd-c28d-90155bdef231"
      },
      "execution_count": null,
      "outputs": [
        {
          "output_type": "stream",
          "name": "stdout",
          "text": [
            "/\n",
            "/about\n"
          ]
        }
      ]
    },
    {
      "cell_type": "code",
      "source": [
        "#How do you handle forms in Flask\n",
        "from flask import Flask, request, render_template_string, redirect, url_for\n",
        "\n",
        "app = Flask(__name__)\n",
        "\n",
        "# HTML template as a string for simplicity\n",
        "form_html = \"\"\"\n",
        "<!DOCTYPE html>\n",
        "<html>\n",
        "<head>\n",
        "    <title>Flask Form</title>\n",
        "</head>\n",
        "<body>\n",
        "    <h2>User Form</h2>\n",
        "    <form method=\"POST\" action=\"{{ url_for('submit') }}\">\n",
        "        Name: <input type=\"text\" name=\"name\" required><br><br>\n",
        "        Email: <input type=\"email\" name=\"email\" required><br><br>\n",
        "        <input type=\"submit\" value=\"Submit\">\n",
        "    </form>\n",
        "</body>\n",
        "</html>\n",
        "\"\"\"\n",
        "\n",
        "thank_you_html = \"\"\"\n",
        "<!DOCTYPE html>\n",
        "<html>\n",
        "<head>\n",
        "    <title>Thank You</title>\n",
        "</head>\n",
        "<body>\n",
        "    <h2>Thank You, {{ name }}!</h2>\n",
        "    <p>Your email is {{ email }}</p>\n",
        "    <a href=\"{{ url_for('index') }}\">Go Back</a>\n",
        "</body>\n",
        "</html>\n",
        "\"\"\"\n",
        "\n",
        "@app.route('/')\n",
        "def index():\n",
        "    return render_template_string(form_html)\n",
        "\n",
        "@app.route('/submit', methods=['POST'])\n",
        "def submit():\n",
        "    # Get form data\n",
        "    name = request.form.get('name')\n",
        "    email = request.form.get('email')\n",
        "    # Redirect to thank you page with query parameters\n",
        "    return redirect(url_for('thank_you', name=name, email=email))\n",
        "\n",
        "@app.route('/thank_you')\n",
        "def thank_you():\n",
        "    name = request.args.get('name')\n",
        "    email = request.args.get('email')\n",
        "    return render_template_string(thank_you_html, name=name, email=email)\n",
        "\n",
        "if __name__ == '__main__':\n",
        "    app.run(debug=True)\n"
      ],
      "metadata": {
        "colab": {
          "base_uri": "https://localhost:8080/"
        },
        "id": "QPrRwdnXXw0b",
        "outputId": "fdb18d61-262a-4bae-dcac-06d41e599d8f"
      },
      "execution_count": null,
      "outputs": [
        {
          "output_type": "stream",
          "name": "stdout",
          "text": [
            " * Serving Flask app '__main__'\n",
            " * Debug mode: on\n"
          ]
        },
        {
          "output_type": "stream",
          "name": "stderr",
          "text": [
            "INFO:werkzeug:\u001b[31m\u001b[1mWARNING: This is a development server. Do not use it in a production deployment. Use a production WSGI server instead.\u001b[0m\n",
            " * Running on http://127.0.0.1:5000\n",
            "INFO:werkzeug:\u001b[33mPress CTRL+C to quit\u001b[0m\n",
            "INFO:werkzeug: * Restarting with watchdog (inotify)\n"
          ]
        }
      ]
    },
    {
      "cell_type": "code",
      "source": [
        "#How can you validate form data in Flask\n",
        "from flask import Flask, request, render_template_string\n",
        "\n",
        "app = Flask(__name__)\n",
        "\n",
        "# HTML template as string\n",
        "form_html = \"\"\"\n",
        "<!DOCTYPE html>\n",
        "<html>\n",
        "<head>\n",
        "    <title>Flask Form Validation</title>\n",
        "</head>\n",
        "<body>\n",
        "    <h2>User Form</h2>\n",
        "    {% if error %}\n",
        "        <p style=\"color:red;\">{{ error }}</p>\n",
        "    {% endif %}\n",
        "    <form method=\"POST\">\n",
        "        Name: <input type=\"text\" name=\"name\" value=\"{{ request.form.get('name', '') }}\"><br><br>\n",
        "        Email: <input type=\"email\" name=\"email\" value=\"{{ request.form.get('email', '') }}\"><br><br>\n",
        "        <input type=\"submit\" value=\"Submit\">\n",
        "    </form>\n",
        "</body>\n",
        "</html>\n",
        "\"\"\"\n",
        "\n",
        "thank_you_html = \"\"\"\n",
        "<!DOCTYPE html>\n",
        "<html>\n",
        "<head>\n",
        "    <title>Thank You</title>\n",
        "</head>\n",
        "<body>\n",
        "    <h2>Thank You, {{ name }}!</h2>\n",
        "    <p>Your email is {{ email }}</p>\n",
        "</body>\n",
        "</html>\n",
        "\"\"\"\n",
        "\n",
        "@app.route('/', methods=['GET', 'POST'])\n",
        "def index():\n",
        "    error = None\n",
        "    if request.method == 'POST':\n",
        "        name = request.form.get('name')\n",
        "        email = request.form.get('email')\n",
        "\n",
        "        # Basic validation\n",
        "        if not name or not email:\n",
        "            error = \"All fields are required!\"\n",
        "        elif \"@\" not in email or \".\" not in email:\n",
        "            error = \"Invalid email address!\"\n",
        "        else:\n",
        "            # If validation passes, show thank you page\n",
        "            return render_template_string(thank_you_html, name=name, email=email)\n",
        "\n",
        "    return render_template_string(form_html, error=error, request=request)\n",
        "\n",
        "if __name__ == '__main__':\n",
        "    app.run(debug=True)\n"
      ],
      "metadata": {
        "colab": {
          "base_uri": "https://localhost:8080/"
        },
        "id": "BV5mp50zYbBf",
        "outputId": "725e4031-44c9-4335-d755-51d0aa0ca268"
      },
      "execution_count": null,
      "outputs": [
        {
          "output_type": "stream",
          "name": "stdout",
          "text": [
            " * Serving Flask app '__main__'\n",
            " * Debug mode: on\n"
          ]
        },
        {
          "output_type": "stream",
          "name": "stderr",
          "text": [
            "INFO:werkzeug:\u001b[31m\u001b[1mWARNING: This is a development server. Do not use it in a production deployment. Use a production WSGI server instead.\u001b[0m\n",
            " * Running on http://127.0.0.1:5000\n",
            "INFO:werkzeug:\u001b[33mPress CTRL+C to quit\u001b[0m\n",
            "INFO:werkzeug: * Restarting with watchdog (inotify)\n"
          ]
        }
      ]
    },
    {
      "cell_type": "code",
      "source": [
        "#How do you manage sessions in Flask\n",
        "# HTML templates as strings\n",
        "login_html = \"\"\"\n",
        "<!DOCTYPE html>\n",
        "<html>\n",
        "<head><title>Login</title></head>\n",
        "<body>\n",
        "    <h2>Login</h2>\n",
        "    {% if error %}<p style=\"color:red;\">{{ error }}</p>{% endif %}\n",
        "    <form method=\"POST\">\n",
        "        Username: <input type=\"text\" name=\"username\" value=\"{{ request.form.get('username','') }}\"><br><br>\n",
        "        <input type=\"submit\" value=\"Login\">\n",
        "    </form>\n",
        "</body>\n",
        "</html>\n",
        "\"\"\"\n",
        "\n",
        "welcome_html = \"\"\"\n",
        "<!DOCTYPE html>\n",
        "<html>\n",
        "<head><title>Welcome</title></head>\n",
        "<body>\n",
        "    <h2>Welcome, {{ username }}!</h2>\n",
        "    <a href=\"{{ url_for('logout') }}\">Logout</a>\n",
        "</body>\n",
        "</html>\n",
        "\"\"\"\n",
        "\n",
        "@app.route('/', methods=['GET', 'POST'])\n",
        "def login():\n",
        "    error = None\n",
        "    if request.method == 'POST':\n",
        "        username = request.form.get('username')\n",
        "        if not username:\n",
        "            error = \"Please enter a username!\"\n",
        "        else:\n",
        "            # Store username in session\n",
        "            session['username'] = username\n",
        "            return redirect(url_for('welcome'))\n",
        "    return render_template_string(login_html, error=error, request=request)\n",
        "\n",
        "@app.route('/welcome')\n",
        "def welcome():\n",
        "    # Check if user is logged in\n",
        "    if 'username' in session:\n",
        "        return render_template_string(welcome_html, username=session['username'])\n",
        "    else:\n",
        "        return redirect(url_for('login'))\n",
        "\n",
        "@app.route('/logout')\n",
        "def logout():\n",
        "    # Remove user from session\n",
        "    session.pop('username', None)\n",
        "    return redirect(url_for('login'))\n",
        "\n",
        "if __name__ == '__main__':\n",
        "    app.run(debug=True)\n"
      ],
      "metadata": {
        "colab": {
          "base_uri": "https://localhost:8080/"
        },
        "id": "912iAU9EYwsx",
        "outputId": "03a02a95-fa90-4ec7-8b8c-7b21a960d40f"
      },
      "execution_count": null,
      "outputs": [
        {
          "output_type": "stream",
          "name": "stdout",
          "text": [
            " * Serving Flask app '__main__'\n",
            " * Debug mode: on\n"
          ]
        },
        {
          "output_type": "stream",
          "name": "stderr",
          "text": [
            "INFO:werkzeug:\u001b[31m\u001b[1mWARNING: This is a development server. Do not use it in a production deployment. Use a production WSGI server instead.\u001b[0m\n",
            " * Running on http://127.0.0.1:5000\n",
            "INFO:werkzeug:\u001b[33mPress CTRL+C to quit\u001b[0m\n",
            "INFO:werkzeug: * Restarting with watchdog (inotify)\n"
          ]
        }
      ]
    },
    {
      "cell_type": "code",
      "source": [
        "#How do you redirect to a different route in Flask\n",
        "from flask import Flask, redirect, url_for\n",
        "app = Flask(__name__)\n",
        "\n",
        "@app.route('/')\n",
        "def home():\n",
        "    return \"This is the Home Page\"\n",
        "\n",
        "@app.route('/go-to-about')\n",
        "def go_to_about():\n",
        "    # Redirect to the 'about' route\n",
        "    return redirect(url_for('about'))\n",
        "\n",
        "@app.route('/about')\n",
        "def about():\n",
        "    return \"This is the About Page\"\n",
        "\n",
        "if __name__ == '__main__':\n",
        "    app.run(debug=True)\n",
        "\n"
      ],
      "metadata": {
        "colab": {
          "base_uri": "https://localhost:8080/"
        },
        "id": "R3yIYwZgZHnP",
        "outputId": "ecc62b7d-cef7-493f-b544-0ffa250fff23"
      },
      "execution_count": null,
      "outputs": [
        {
          "output_type": "stream",
          "name": "stdout",
          "text": [
            " * Serving Flask app '__main__'\n",
            " * Debug mode: on\n"
          ]
        },
        {
          "output_type": "stream",
          "name": "stderr",
          "text": [
            "INFO:werkzeug:\u001b[31m\u001b[1mWARNING: This is a development server. Do not use it in a production deployment. Use a production WSGI server instead.\u001b[0m\n",
            " * Running on http://127.0.0.1:5000\n",
            "INFO:werkzeug:\u001b[33mPress CTRL+C to quit\u001b[0m\n",
            "INFO:werkzeug: * Restarting with watchdog (inotify)\n"
          ]
        }
      ]
    },
    {
      "cell_type": "code",
      "source": [
        "# How do you handle errors in Flask (e.g., 404)\n",
        "from flask import Flask, render_template_string\n",
        "\n",
        "app = Flask(__name__)\n",
        "\n",
        "# HTML templates as strings\n",
        "home_html = \"\"\"\n",
        "<h2>Home Page</h2>\n",
        "<p>Welcome to the Flask app!</p>\n",
        "<a href=\"/nonexistent\">Go to a non-existent page</a>\n",
        "\"\"\"\n",
        "\n",
        "error_404_html = \"\"\"\n",
        "<h2>404 Error</h2>\n",
        "<p>Oops! The page you are looking for does not exist.</p>\n",
        "<a href=\"{{ url_for('home') }}\">Go Back Home</a>\n",
        "\"\"\"\n",
        "\n",
        "error_500_html = \"\"\"\n",
        "<h2>500 Error</h2>\n",
        "<p>Something went wrong on the server.</p>\n",
        "<a href=\"{{ url_for('home') }}\">Go Back Home</a>\n",
        "\"\"\"\n",
        "\n",
        "@app.route('/')\n",
        "def home():\n",
        "    return render_template_string(home_html)\n",
        "\n",
        "# Custom 404 error handler\n",
        "@app.errorhandler(404)\n",
        "def page_not_found(e):\n",
        "    return render_template_string(error_404_html), 404\n",
        "\n",
        "# Custom 500 error handler\n",
        "@app.errorhandler(500)\n",
        "def internal_server_error(e):\n",
        "    return render_template_string(error_500_html), 500\n",
        "\n",
        "if __name__ == '__main__':\n",
        "    app.run(debug=True)\n"
      ],
      "metadata": {
        "colab": {
          "base_uri": "https://localhost:8080/"
        },
        "id": "1-WbhIxmZVxJ",
        "outputId": "44909777-0a00-49f6-97f3-8ddd8c25bcda"
      },
      "execution_count": null,
      "outputs": [
        {
          "output_type": "stream",
          "name": "stdout",
          "text": [
            " * Serving Flask app '__main__'\n",
            " * Debug mode: on\n"
          ]
        },
        {
          "output_type": "stream",
          "name": "stderr",
          "text": [
            "INFO:werkzeug:\u001b[31m\u001b[1mWARNING: This is a development server. Do not use it in a production deployment. Use a production WSGI server instead.\u001b[0m\n",
            " * Running on http://127.0.0.1:5000\n",
            "INFO:werkzeug:\u001b[33mPress CTRL+C to quit\u001b[0m\n",
            "INFO:werkzeug: * Restarting with watchdog (inotify)\n"
          ]
        }
      ]
    },
    {
      "cell_type": "code",
      "source": [
        "#How do you structure a Flask app using Blueprints\n",
        "from flask import Flask, Blueprint, render_template_string, request, redirect, url_for, session\n",
        "\n",
        "app = Flask(__name__)\n",
        "app.secret_key = \"secret_key\"\n",
        "\n",
        "# ------------------- Auth Blueprint -------------------\n",
        "auth = Blueprint('auth', __name__)\n",
        "\n",
        "login_html = \"\"\"\n",
        "<h2>Login Page</h2>\n",
        "<form method=\"POST\">\n",
        "    Username: <input type=\"text\" name=\"username\" required>\n",
        "    <input type=\"submit\" value=\"Login\">\n",
        "</form>\n",
        "\"\"\"\n",
        "\n",
        "@auth.route('/login', methods=['GET', 'POST'])\n",
        "def login():\n",
        "    if request.method == 'POST':\n",
        "        session['username'] = request.form['username']\n",
        "        return redirect(url_for('blog.home'))\n",
        "    return render_template_string(login_html)\n",
        "\n",
        "@auth.route('/logout')\n",
        "def logout():\n",
        "    session.pop('username', None)\n",
        "    return redirect(url_for('auth.login'))\n",
        "\n",
        "# ------------------- Blog Blueprint -------------------\n",
        "blog = Blueprint('blog', __name__)\n",
        "\n",
        "home_html = \"\"\"\n",
        "<h2>Blog Home</h2>\n",
        "{% if username %}\n",
        "<p>Welcome, {{ username }}!</p>\n",
        "<a href=\"{{ url_for('auth.logout') }}\">Logout</a>\n",
        "{% else %}\n",
        "<p>Please <a href=\"{{ url_for('auth.login') }}\">login</a>.</p>\n",
        "{% endif %}\n",
        "\"\"\"\n",
        "\n",
        "@blog.route('/')\n",
        "def home():\n",
        "    username = session.get('username')\n",
        "    return render_template_string(home_html, username=username)\n",
        "\n",
        "# ------------------- Register Blueprints -------------------\n",
        "app.register_blueprint(auth, url_prefix='/auth')\n",
        "app.register_blueprint(blog, url_prefix='/blog')\n",
        "\n",
        "# ------------------- Run App -------------------\n",
        "if __name__ == '__main__':\n",
        "    app.run(debug=True)\n"
      ],
      "metadata": {
        "colab": {
          "base_uri": "https://localhost:8080/"
        },
        "id": "TDQki_rMZqjp",
        "outputId": "b23a01b0-7426-41a0-fc72-c862ef653b61"
      },
      "execution_count": null,
      "outputs": [
        {
          "output_type": "stream",
          "name": "stdout",
          "text": [
            " * Serving Flask app '__main__'\n",
            " * Debug mode: on\n"
          ]
        },
        {
          "output_type": "stream",
          "name": "stderr",
          "text": [
            "INFO:werkzeug:\u001b[31m\u001b[1mWARNING: This is a development server. Do not use it in a production deployment. Use a production WSGI server instead.\u001b[0m\n",
            " * Running on http://127.0.0.1:5000\n",
            "INFO:werkzeug:\u001b[33mPress CTRL+C to quit\u001b[0m\n",
            "INFO:werkzeug: * Restarting with watchdog (inotify)\n"
          ]
        }
      ]
    },
    {
      "cell_type": "code",
      "source": [
        "#How do you define a custom Jinja filter in Flask\n",
        "from flask import Flask, render_template_string\n",
        "\n",
        "app = Flask(__name__)\n",
        "\n",
        "# ------------------- Define Custom Jinja Filter -------------------\n",
        "@app.template_filter('reverse')\n",
        "def reverse_string(s):\n",
        "    \"\"\"Reverses a string\"\"\"\n",
        "    return s[::-1]\n",
        "\n",
        "@app.template_filter('uppercase')\n",
        "def uppercase_string(s):\n",
        "    \"\"\"Converts string to uppercase\"\"\"\n",
        "    return s.upper()\n",
        "\n",
        "# ------------------- Sample Template -------------------\n",
        "template = \"\"\"\n",
        "<h2>Custom Jinja Filters Example</h2>\n",
        "<p>Original: {{ name }}</p>\n",
        "<p>Reversed: {{ name|reverse }}</p>\n",
        "<p>Uppercase: {{ name|uppercase }}</p>\n",
        "\"\"\"\n",
        "\n",
        "@app.route('/')\n",
        "def index():\n",
        "    name = \"FlaskAssignment\"\n",
        "    return render_template_string(template, name=name)\n",
        "\n",
        "# ------------------- Run App -------------------\n",
        "if __name__ == '__main__':\n",
        "    app.run(debug=True)\n"
      ],
      "metadata": {
        "colab": {
          "base_uri": "https://localhost:8080/"
        },
        "id": "xxLMpmGSaUQb",
        "outputId": "1684ca5f-cf3f-439d-c27a-79bf78d0d248"
      },
      "execution_count": null,
      "outputs": [
        {
          "output_type": "stream",
          "name": "stdout",
          "text": [
            " * Serving Flask app '__main__'\n",
            " * Debug mode: on\n"
          ]
        },
        {
          "output_type": "stream",
          "name": "stderr",
          "text": [
            "INFO:werkzeug:\u001b[31m\u001b[1mWARNING: This is a development server. Do not use it in a production deployment. Use a production WSGI server instead.\u001b[0m\n",
            " * Running on http://127.0.0.1:5000\n",
            "INFO:werkzeug:\u001b[33mPress CTRL+C to quit\u001b[0m\n",
            "INFO:werkzeug: * Restarting with watchdog (inotify)\n"
          ]
        }
      ]
    },
    {
      "cell_type": "code",
      "source": [
        "#How can you redirect with query parameters in Flask\n",
        "from flask import Flask, redirect, url_for, request, render_template_string\n",
        "\n",
        "app = Flask(__name__)\n",
        "\n",
        "# ------------------- Home Page -------------------\n",
        "home_html = \"\"\"\n",
        "<h2>Home Page</h2>\n",
        "<p>Click the button to go to the greeting page with your name:</p>\n",
        "<form method=\"POST\">\n",
        "    Name: <input type=\"text\" name=\"username\" required>\n",
        "    <input type=\"submit\" value=\"Submit\">\n",
        "</form>\n",
        "\"\"\"\n",
        "\n",
        "@app.route('/', methods=['GET', 'POST'])\n",
        "def home():\n",
        "    if request.method == 'POST':\n",
        "        username = request.form.get('username')\n",
        "        # Redirect with query parameter\n",
        "        return redirect(url_for('greet', name=username))\n",
        "    return render_template_string(home_html)\n",
        "\n",
        "# ------------------- Greeting Page -------------------\n",
        "greet_html = \"\"\"\n",
        "<h2>Greeting Page</h2>\n",
        "<p>Hello, {{ name }}!</p>\n",
        "<a href=\"{{ url_for('home') }}\">Go Back</a>\n",
        "\"\"\"\n",
        "\n",
        "@app.route('/greet')\n",
        "def greet():\n",
        "    name = request.args.get('name')  # Get query parameter from URL\n",
        "    return render_template_string(greet_html, name=name)\n",
        "\n",
        "# ------------------- Run App -------------------\n",
        "if __name__ == '__main__':\n",
        "    app.run(debug=True)\n"
      ],
      "metadata": {
        "colab": {
          "base_uri": "https://localhost:8080/"
        },
        "id": "yRNJQTD3awp8",
        "outputId": "8f669d7b-9d17-4140-f883-85ab27c93c0d"
      },
      "execution_count": null,
      "outputs": [
        {
          "output_type": "stream",
          "name": "stdout",
          "text": [
            " * Serving Flask app '__main__'\n",
            " * Debug mode: on\n"
          ]
        },
        {
          "output_type": "stream",
          "name": "stderr",
          "text": [
            "INFO:werkzeug:\u001b[31m\u001b[1mWARNING: This is a development server. Do not use it in a production deployment. Use a production WSGI server instead.\u001b[0m\n",
            " * Running on http://127.0.0.1:5000\n",
            "INFO:werkzeug:\u001b[33mPress CTRL+C to quit\u001b[0m\n",
            "INFO:werkzeug: * Restarting with watchdog (inotify)\n"
          ]
        }
      ]
    },
    {
      "cell_type": "code",
      "source": [
        "# How do you return JSON responses in Flask\n",
        "from flask import Flask, jsonify, request, render_template_string\n",
        "\n",
        "app = Flask(__name__)\n",
        "\n",
        "# ------------------- Sample Form -------------------\n",
        "form_html = \"\"\"\n",
        "<h2>Enter Your Info</h2>\n",
        "<form method=\"POST\">\n",
        "    Name: <input type=\"text\" name=\"name\" required><br><br>\n",
        "    Age: <input type=\"number\" name=\"age\" required><br><br>\n",
        "    <input type=\"submit\" value=\"Submit\">\n",
        "</form>\n",
        "\"\"\"\n",
        "\n",
        "@app.route('/', methods=['GET', 'POST'])\n",
        "def home():\n",
        "    if request.method == 'POST':\n",
        "        name = request.form.get('name')\n",
        "        age = request.form.get('age')\n",
        "        # Return JSON response\n",
        "        return jsonify({\n",
        "            \"status\": \"success\",\n",
        "            \"name\": name,\n",
        "            \"age\": age\n",
        "        })\n",
        "    return render_template_string(form_html)\n",
        "\n",
        "# ------------------- JSON API Example -------------------\n",
        "@app.route('/api/data')\n",
        "def api_data():\n",
        "    data = {\n",
        "        \"name\": \"FlaskAssignment\",\n",
        "        \"version\": \"1.0\",\n",
        "        \"status\": \"running\"\n",
        "    }\n",
        "    return jsonify(data)\n",
        "\n",
        "# ------------------- Run App -------------------\n",
        "if __name__ == '__main__':\n",
        "    app.run(debug=True)\n"
      ],
      "metadata": {
        "colab": {
          "base_uri": "https://localhost:8080/"
        },
        "id": "kMQiJRifa-MY",
        "outputId": "683b3b39-7bbe-4c90-e3f1-668b1bcd2313"
      },
      "execution_count": null,
      "outputs": [
        {
          "output_type": "stream",
          "name": "stdout",
          "text": [
            " * Serving Flask app '__main__'\n",
            " * Debug mode: on\n"
          ]
        },
        {
          "output_type": "stream",
          "name": "stderr",
          "text": [
            "INFO:werkzeug:\u001b[31m\u001b[1mWARNING: This is a development server. Do not use it in a production deployment. Use a production WSGI server instead.\u001b[0m\n",
            " * Running on http://127.0.0.1:5000\n",
            "INFO:werkzeug:\u001b[33mPress CTRL+C to quit\u001b[0m\n",
            "INFO:werkzeug: * Restarting with watchdog (inotify)\n"
          ]
        }
      ]
    },
    {
      "cell_type": "code",
      "source": [
        "#How do you capture URL parameters in Flask?\n",
        "from flask import Flask, render_template_string\n",
        "\n",
        "app = Flask(__name__)\n",
        "\n",
        "# ------------------- Route with URL parameter -------------------\n",
        "@app.route('/user/<username>')\n",
        "def user_profile(username):\n",
        "    template = \"\"\"\n",
        "    <h2>User Profile</h2>\n",
        "    <p>Welcome, {{ username }}!</p>\n",
        "    <a href=\"/\">Go Home</a>\n",
        "    \"\"\"\n",
        "    return render_template_string(template, username=username)\n",
        "\n",
        "# ------------------- Route with multiple URL parameters -------------------\n",
        "@app.route('/order/<int:order_id>/item/<item_name>')\n",
        "def order_item(order_id, item_name):\n",
        "    template = \"\"\"\n",
        "    <h2>Order Details</h2>\n",
        "    <p>Order ID: {{ order_id }}</p>\n",
        "    <p>Item: {{ item_name }}</p>\n",
        "    <a href=\"/\">Go Home</a>\n",
        "    \"\"\"\n",
        "    return render_template_string(template, order_id=order_id, item_name=item_name)\n",
        "\n",
        "# ------------------- Home Page -------------------\n",
        "@app.route('/')\n",
        "def home():\n",
        "    template = \"\"\"\n",
        "    <h2>Flask URL Parameters Example</h2>\n",
        "    <p>Try these URLs:</p>\n",
        "    <ul>\n",
        "        <li>/user/Aabha</li>\n",
        "        <li>/order/101/item/Laptop</li>\n",
        "    </ul>\n",
        "    \"\"\"\n",
        "    return render_template_string(template)\n",
        "\n",
        "# ------------------- Run App -------------------\n",
        "if __name__ == '__main__':\n",
        "    app.run(debug=True)\n",
        "\n",
        "\n"
      ],
      "metadata": {
        "colab": {
          "base_uri": "https://localhost:8080/"
        },
        "id": "VDnPQG4XbOUM",
        "outputId": "54614103-418a-4461-c5db-89d2cdcbf029"
      },
      "execution_count": null,
      "outputs": [
        {
          "output_type": "stream",
          "name": "stdout",
          "text": [
            " * Serving Flask app '__main__'\n",
            " * Debug mode: on\n"
          ]
        },
        {
          "output_type": "stream",
          "name": "stderr",
          "text": [
            "INFO:werkzeug:\u001b[31m\u001b[1mWARNING: This is a development server. Do not use it in a production deployment. Use a production WSGI server instead.\u001b[0m\n",
            " * Running on http://127.0.0.1:5000\n",
            "INFO:werkzeug:\u001b[33mPress CTRL+C to quit\u001b[0m\n",
            "INFO:werkzeug: * Restarting with watchdog (inotify)\n"
          ]
        }
      ]
    }
  ]
}